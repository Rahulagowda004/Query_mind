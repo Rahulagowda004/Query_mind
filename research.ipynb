{
 "cells": [
  {
   "cell_type": "code",
   "execution_count": null,
   "metadata": {},
   "outputs": [],
   "source": [
    "# import os\n",
    "# from langchain_google_genai import ChatGoogleGenerativeAI\n",
    "\n",
    "# os.environ[\"GOOGLE_API_KEY\"] = \"AIzaSqreyC8fZnW1e6qerqEiASvttiYPTKqerKF0G18keUQ\"\n",
    "\n",
    "# llm = ChatGoogleGenerativeAI(model=\"gemini-pro\")"
   ]
  },
  {
   "cell_type": "code",
   "execution_count": 26,
   "metadata": {},
   "outputs": [],
   "source": [
    "from langchain_groq import ChatGroq\n",
    "\n",
    "llm = ChatGroq(api_key=\"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\")"
   ]
  },
  {
   "cell_type": "code",
   "execution_count": 27,
   "metadata": {},
   "outputs": [],
   "source": [
    "from langchain.schema import (\n",
    "    AIMessage,HumanMessage,SystemMessage\n",
    ")"
   ]
  },
  {
   "cell_type": "code",
   "execution_count": 28,
   "metadata": {},
   "outputs": [],
   "source": [
    "speech = \"\"\"\n",
    "    \"Ladies and gentlemen, thank you for being here today. We are gathered to celebrate the achievements of our community.\",\n",
    "    \"In the face of adversity, we have shown resilience and strength. Together, we can overcome any challenge.\",\n",
    "    \"Our mission is to innovate and inspire. Let's work together to create a brighter future for everyone.\",\n",
    "    \"Today, we embark on a new journey. A journey of growth, learning, and success. Let's make the most of it.\",\n",
    "    \"As we look to the future, let's remember the values that brought us here: integrity, dedication, and excellence.\"\"\""
   ]
  },
  {
   "cell_type": "code",
   "execution_count": 29,
   "metadata": {},
   "outputs": [],
   "source": [
    "chat_message = [\n",
    "    SystemMessage(content = \"you are an assistant\"),\n",
    "    HumanMessage(content = f\"please provide a short and concise summary of the following speech:\\n TextL{speech}\")\n",
    "]"
   ]
  },
  {
   "cell_type": "code",
   "execution_count": 31,
   "metadata": {},
   "outputs": [
    {
     "data": {
      "text/plain": [
       "AIMessage(content=\"The speech celebrates the community's achievements and resilience in overcoming adversity. The speaker encourages everyone to continue innovating and inspiring one another to create a better future. They emphasize the importance of working together, embarking on a journey of growth and success, and upholding values of integrity, dedication, and excellence.\", additional_kwargs={}, response_metadata={'token_usage': {'completion_tokens': 75, 'prompt_tokens': 172, 'total_tokens': 247, 'completion_time': 0.118945134, 'prompt_time': 0.010298388, 'queue_time': 0.004282232, 'total_time': 0.129243522}, 'model_name': 'mixtral-8x7b-32768', 'system_fingerprint': 'fp_c5f20b5bb1', 'finish_reason': 'stop', 'logprobs': None}, id='run-a4bbfa3a-af1b-43ac-8d02-1f0998f416b1-0', usage_metadata={'input_tokens': 172, 'output_tokens': 75, 'total_tokens': 247})"
      ]
     },
     "execution_count": 31,
     "metadata": {},
     "output_type": "execute_result"
    }
   ],
   "source": [
    "llm(chat_message)"
   ]
  },
  {
   "cell_type": "code",
   "execution_count": null,
   "metadata": {},
   "outputs": [],
   "source": []
  }
 ],
 "metadata": {
  "kernelspec": {
   "display_name": ".venv",
   "language": "python",
   "name": "python3"
  },
  "language_info": {
   "codemirror_mode": {
    "name": "ipython",
    "version": 3
   },
   "file_extension": ".py",
   "mimetype": "text/x-python",
   "name": "python",
   "nbconvert_exporter": "python",
   "pygments_lexer": "ipython3",
   "version": "3.10.11"
  }
 },
 "nbformat": 4,
 "nbformat_minor": 2
}
